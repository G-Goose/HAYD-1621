{
 "cells": [
  {
   "cell_type": "code",
   "execution_count": null,
   "id": "8bb10c1d-9a25-42b1-8e77-7521fde3ede6",
   "metadata": {},
   "outputs": [],
   "source": []
  }
 ],
 "metadata": {
  "kernelspec": {
   "display_name": "",
   "name": ""
  },
  "language_info": {
   "name": ""
  }
 },
 "nbformat": 4,
 "nbformat_minor": 5
}
