{
 "cells": [
  {
   "cell_type": "code",
   "execution_count": 1,
   "metadata": {
    "_cell_guid": "b1076dfc-b9ad-4769-8c92-a6c4dae69d19",
    "_uuid": "8f2839f25d086af736a60e9eeb907d3b93b6e0e5",
    "execution": {
     "iopub.execute_input": "2024-05-07T13:05:06.233253Z",
     "iopub.status.busy": "2024-05-07T13:05:06.232648Z",
     "iopub.status.idle": "2024-05-07T13:05:06.596183Z",
     "shell.execute_reply": "2024-05-07T13:05:06.595166Z",
     "shell.execute_reply.started": "2024-05-07T13:05:06.233196Z"
    }
   },
   "outputs": [],
   "source": [
    "# This Python 3 environment comes with many helpful analytics libraries installed\n",
    "# It is defined by the kaggle/python Docker image: https://github.com/kaggle/docker-python\n",
    "# For example, here's several helpful packages to load\n",
    "\n",
    "import numpy as np # linear algebra\n",
    "import pandas as pd # data processing, CSV file I/O (e.g. pd.read_csv)\n",
    "\n",
    "# Input data files are available in the read-only \"../input/\" directory\n",
    "# For example, running this (by clicking run or pressing Shift+Enter) will list all files under the input directory\n",
    "\n",
    "# import os\n",
    "# for dirname, _, filenames in os.walk('/kaggle/input'):\n",
    "#     for filename in filenames:\n",
    "#         print(os.path.join(dirname, filename))\n",
    "\n",
    "# You can write up to 20GB to the current directory (/kaggle/working/) that gets preserved as output when you create a version using \"Save & Run All\" \n",
    "# You can also write temporary files to /kaggle/temp/, but they won't be saved outside of the current session"
   ]
  },
  {
   "cell_type": "code",
   "execution_count": 2,
   "metadata": {
    "execution": {
     "iopub.execute_input": "2024-05-07T13:05:06.598948Z",
     "iopub.status.busy": "2024-05-07T13:05:06.598112Z",
     "iopub.status.idle": "2024-05-07T13:05:09.866170Z",
     "shell.execute_reply": "2024-05-07T13:05:09.865401Z",
     "shell.execute_reply.started": "2024-05-07T13:05:06.598910Z"
    }
   },
   "outputs": [
    {
     "name": "stderr",
     "output_type": "stream",
     "text": [
      "2024-05-07 13:05:06.952743: E external/local_xla/xla/stream_executor/cuda/cuda_dnn.cc:9261] Unable to register cuDNN factory: Attempting to register factory for plugin cuDNN when one has already been registered\n",
      "2024-05-07 13:05:06.952797: E external/local_xla/xla/stream_executor/cuda/cuda_fft.cc:607] Unable to register cuFFT factory: Attempting to register factory for plugin cuFFT when one has already been registered\n",
      "2024-05-07 13:05:06.954345: E external/local_xla/xla/stream_executor/cuda/cuda_blas.cc:1515] Unable to register cuBLAS factory: Attempting to register factory for plugin cuBLAS when one has already been registered\n"
     ]
    }
   ],
   "source": [
    "import numpy as np # linear algebra\n",
    "import pandas as pd # data processing, CSV file I/O (e.g. pd.read_csv)\n",
    "\n",
    "from tensorflow.keras.preprocessing import image_dataset_from_directory\n",
    "from tensorflow.keras.layers import Input, Flatten, Dense, Dropout\n",
    "from tensorflow.keras import layers\n",
    "from tensorflow.keras.models import Model, Sequential\n",
    "from tensorflow.keras.applications import EfficientNetB0, InceptionV3\n",
    "from tensorflow.keras.applications.inception_v3 import preprocess_input\n",
    "from tensorflow.keras.callbacks import EarlyStopping\n",
    "from tensorflow.keras.optimizers.schedules import ExponentialDecay\n",
    "from tensorflow.keras.optimizers import Adam"
   ]
  },
  {
   "cell_type": "code",
   "execution_count": 3,
   "metadata": {
    "execution": {
     "iopub.execute_input": "2024-05-07T13:05:09.867734Z",
     "iopub.status.busy": "2024-05-07T13:05:09.867250Z",
     "iopub.status.idle": "2024-05-07T13:05:21.043070Z",
     "shell.execute_reply": "2024-05-07T13:05:21.042221Z",
     "shell.execute_reply.started": "2024-05-07T13:05:09.867707Z"
    }
   },
   "outputs": [
    {
     "name": "stdout",
     "output_type": "stream",
     "text": [
      "Found 28709 files belonging to 7 classes.\n",
      "Using 22968 files for training.\n",
      "Using 5741 files for validation.\n"
     ]
    }
   ],
   "source": [
    "train_ds, val_ds = image_dataset_from_directory(\n",
    "    directory='/kaggle/input/emotion-detection-fer/train/',\n",
    "    labels='inferred',\n",
    "    label_mode='categorical',\n",
    "    class_names=None,\n",
    "    color_mode='rgb',\n",
    "    batch_size=32,\n",
    "    image_size=(299, 299),\n",
    "    shuffle=True,\n",
    "    seed=42,\n",
    "    validation_split=0.2,\n",
    "    subset='both',\n",
    "    verbose=True\n",
    ")"
   ]
  },
  {
   "cell_type": "code",
   "execution_count": 4,
   "metadata": {
    "execution": {
     "iopub.execute_input": "2024-05-07T13:05:21.044633Z",
     "iopub.status.busy": "2024-05-07T13:05:21.044284Z",
     "iopub.status.idle": "2024-05-07T13:05:21.051582Z",
     "shell.execute_reply": "2024-05-07T13:05:21.050707Z",
     "shell.execute_reply.started": "2024-05-07T13:05:21.044602Z"
    }
   },
   "outputs": [
    {
     "data": {
      "text/plain": [
       "<_PrefetchDataset element_spec=(TensorSpec(shape=(None, 299, 299, 3), dtype=tf.float32, name=None), TensorSpec(shape=(None, 7), dtype=tf.float32, name=None))>"
      ]
     },
     "execution_count": 4,
     "metadata": {},
     "output_type": "execute_result"
    }
   ],
   "source": [
    "train_ds"
   ]
  },
  {
   "cell_type": "code",
   "execution_count": 5,
   "metadata": {
    "execution": {
     "iopub.execute_input": "2024-05-07T13:05:21.055102Z",
     "iopub.status.busy": "2024-05-07T13:05:21.054505Z",
     "iopub.status.idle": "2024-05-07T13:05:26.106802Z",
     "shell.execute_reply": "2024-05-07T13:05:26.106041Z",
     "shell.execute_reply.started": "2024-05-07T13:05:21.055070Z"
    }
   },
   "outputs": [
    {
     "name": "stdout",
     "output_type": "stream",
     "text": [
      "Found 7178 files belonging to 7 classes.\n"
     ]
    }
   ],
   "source": [
    "test_ds = image_dataset_from_directory(\n",
    "    directory='/kaggle/input/emotion-detection-fer/test/',\n",
    "    labels='inferred',\n",
    "    label_mode='categorical',\n",
    "    class_names=None,\n",
    "    color_mode='rgb',\n",
    "    batch_size=32,\n",
    "    image_size=(299, 299),\n",
    "    shuffle=True,\n",
    "    seed=42,\n",
    "    verbose=True\n",
    ")"
   ]
  },
  {
   "cell_type": "code",
   "execution_count": 6,
   "metadata": {
    "execution": {
     "iopub.execute_input": "2024-05-07T13:05:26.108447Z",
     "iopub.status.busy": "2024-05-07T13:05:26.108014Z",
     "iopub.status.idle": "2024-05-07T13:05:26.114700Z",
     "shell.execute_reply": "2024-05-07T13:05:26.113766Z",
     "shell.execute_reply.started": "2024-05-07T13:05:26.108414Z"
    }
   },
   "outputs": [
    {
     "data": {
      "text/plain": [
       "TensorShape([299, 299, 3])"
      ]
     },
     "execution_count": 6,
     "metadata": {},
     "output_type": "execute_result"
    }
   ],
   "source": [
    "input_shape=train_ds.element_spec[0].shape[1:]\n",
    "input_shape"
   ]
  },
  {
   "cell_type": "code",
   "execution_count": 7,
   "metadata": {
    "execution": {
     "iopub.execute_input": "2024-05-07T13:05:26.115972Z",
     "iopub.status.busy": "2024-05-07T13:05:26.115690Z",
     "iopub.status.idle": "2024-05-07T13:05:26.129409Z",
     "shell.execute_reply": "2024-05-07T13:05:26.128644Z",
     "shell.execute_reply.started": "2024-05-07T13:05:26.115949Z"
    }
   },
   "outputs": [
    {
     "name": "stdout",
     "output_type": "stream",
     "text": [
      "['angry', 'disgusted', 'fearful', 'happy', 'neutral', 'sad', 'surprised']\n"
     ]
    }
   ],
   "source": [
    "class_names = train_ds.class_names\n",
    "print(class_names)\n"
   ]
  },
  {
   "cell_type": "code",
   "execution_count": 8,
   "metadata": {
    "execution": {
     "iopub.execute_input": "2024-05-07T13:05:26.130968Z",
     "iopub.status.busy": "2024-05-07T13:05:26.130574Z",
     "iopub.status.idle": "2024-05-07T13:05:26.141854Z",
     "shell.execute_reply": "2024-05-07T13:05:26.141140Z",
     "shell.execute_reply.started": "2024-05-07T13:05:26.130944Z"
    }
   },
   "outputs": [
    {
     "data": {
      "text/plain": [
       "(TensorSpec(shape=(None, 299, 299, 3), dtype=tf.float32, name=None),\n",
       " TensorSpec(shape=(None, 7), dtype=tf.float32, name=None))"
      ]
     },
     "execution_count": 8,
     "metadata": {},
     "output_type": "execute_result"
    }
   ],
   "source": [
    "train_ds.element_spec"
   ]
  },
  {
   "cell_type": "code",
   "execution_count": 9,
   "metadata": {
    "execution": {
     "iopub.execute_input": "2024-05-07T13:05:26.143264Z",
     "iopub.status.busy": "2024-05-07T13:05:26.142913Z",
     "iopub.status.idle": "2024-05-07T13:05:26.218337Z",
     "shell.execute_reply": "2024-05-07T13:05:26.217368Z",
     "shell.execute_reply.started": "2024-05-07T13:05:26.143232Z"
    }
   },
   "outputs": [
    {
     "name": "stdout",
     "output_type": "stream",
     "text": [
      "(32, 299, 299, 3)\n",
      "(32, 7)\n"
     ]
    }
   ],
   "source": [
    "for image_batch, labels_batch in val_ds:\n",
    "  print(image_batch.shape)\n",
    "  print(labels_batch.shape)\n",
    "  break\n"
   ]
  },
  {
   "cell_type": "code",
   "execution_count": 10,
   "metadata": {
    "execution": {
     "iopub.execute_input": "2024-05-07T13:05:26.219807Z",
     "iopub.status.busy": "2024-05-07T13:05:26.219530Z",
     "iopub.status.idle": "2024-05-07T13:05:26.224001Z",
     "shell.execute_reply": "2024-05-07T13:05:26.223083Z",
     "shell.execute_reply.started": "2024-05-07T13:05:26.219782Z"
    }
   },
   "outputs": [],
   "source": [
    "# import matplotlib.pyplot as plt\n",
    "\n",
    "# plt.figure(figsize=(10, 10))\n",
    "# for images, labels in train_ds.take(1):\n",
    "#   for i in range(9):\n",
    "#     ax = plt.subplot(3, 3, i + 1)\n",
    "#     plt.imshow(images[i].numpy().astype(\"uint8\"))\n",
    "#     plt.title(class_names[labels[i]])\n",
    "#     plt.axis(\"off\")\n"
   ]
  },
  {
   "cell_type": "code",
   "execution_count": 11,
   "metadata": {
    "execution": {
     "iopub.execute_input": "2024-05-07T13:05:26.225272Z",
     "iopub.status.busy": "2024-05-07T13:05:26.225010Z",
     "iopub.status.idle": "2024-05-07T13:05:26.294735Z",
     "shell.execute_reply": "2024-05-07T13:05:26.294002Z",
     "shell.execute_reply.started": "2024-05-07T13:05:26.225249Z"
    }
   },
   "outputs": [],
   "source": [
    "def preprocess_data(img, label):\n",
    "    return preprocess_input(img), label\n",
    "\n",
    "preproc_test_ds = test_ds.map(preprocess_data)\n",
    "preproc_train_ds = train_ds.map(preprocess_data)\n",
    "preproc_val_ds = val_ds.map(preprocess_data)"
   ]
  },
  {
   "cell_type": "code",
   "execution_count": 26,
   "metadata": {
    "execution": {
     "iopub.execute_input": "2024-05-07T13:33:20.293386Z",
     "iopub.status.busy": "2024-05-07T13:33:20.292991Z",
     "iopub.status.idle": "2024-05-07T13:33:22.094676Z",
     "shell.execute_reply": "2024-05-07T13:33:22.093868Z",
     "shell.execute_reply.started": "2024-05-07T13:33:20.293354Z"
    }
   },
   "outputs": [],
   "source": [
    "base_model = InceptionV3(weights=\"imagenet\", include_top=False, input_shape=input_shape)\n",
    "base_model.trainable = False\n",
    "\n",
    "aug1 = layers.RandomFlip(\"horizontal\")\n",
    "aug2 = layers.RandomRotation(0.1)\n",
    "# aug3 = layers.RandomZoom(0.1)\n",
    "\n",
    "flatten_layer = Flatten()\n",
    "\n",
    "dense_layer1 = Dense(700, activation='relu')\n",
    "dropout1 = Dropout(0.25)\n",
    "dense_layer2 = Dense(250, activation='relu')\n",
    "dropout2 = Dropout(0.1)\n",
    "dense_layer3 = Dense(70, activation='relu')\n",
    "dropout3 = Dropout(0.1)\n",
    "\n",
    "prediction_layer = Dense(7, activation='softmax')\n",
    "\n",
    "\n",
    "model = Sequential([\n",
    "    base_model,\n",
    "    aug1,\n",
    "    aug2,\n",
    "#     aug3,\n",
    "    flatten_layer,\n",
    "    dense_layer1,\n",
    "    dropout1,\n",
    "#     dense_layer2,\n",
    "#     dropout2,\n",
    "    dense_layer3,\n",
    "#     dropout3,\n",
    "    prediction_layer\n",
    "])"
   ]
  },
  {
   "cell_type": "code",
   "execution_count": 27,
   "metadata": {
    "execution": {
     "iopub.execute_input": "2024-05-07T13:33:22.096432Z",
     "iopub.status.busy": "2024-05-07T13:33:22.096127Z",
     "iopub.status.idle": "2024-05-07T13:33:22.129003Z",
     "shell.execute_reply": "2024-05-07T13:33:22.128078Z",
     "shell.execute_reply.started": "2024-05-07T13:33:22.096407Z"
    }
   },
   "outputs": [
    {
     "data": {
      "text/html": [
       "<pre style=\"white-space:pre;overflow-x:auto;line-height:normal;font-family:Menlo,'DejaVu Sans Mono',consolas,'Courier New',monospace\"><span style=\"font-weight: bold\">Model: \"sequential_2\"</span>\n",
       "</pre>\n"
      ],
      "text/plain": [
       "\u001b[1mModel: \"sequential_2\"\u001b[0m\n"
      ]
     },
     "metadata": {},
     "output_type": "display_data"
    },
    {
     "data": {
      "text/html": [
       "<pre style=\"white-space:pre;overflow-x:auto;line-height:normal;font-family:Menlo,'DejaVu Sans Mono',consolas,'Courier New',monospace\">┏━━━━━━━━━━━━━━━━━━━━━━━━━━━━━━━━━┳━━━━━━━━━━━━━━━━━━━━━━━━┳━━━━━━━━━━━━━━━┓\n",
       "┃<span style=\"font-weight: bold\"> Layer (type)                    </span>┃<span style=\"font-weight: bold\"> Output Shape           </span>┃<span style=\"font-weight: bold\">       Param # </span>┃\n",
       "┡━━━━━━━━━━━━━━━━━━━━━━━━━━━━━━━━━╇━━━━━━━━━━━━━━━━━━━━━━━━╇━━━━━━━━━━━━━━━┩\n",
       "│ inception_v3 (<span style=\"color: #0087ff; text-decoration-color: #0087ff\">Functional</span>)       │ ?                      │    <span style=\"color: #00af00; text-decoration-color: #00af00\">21,802,784</span> │\n",
       "├─────────────────────────────────┼────────────────────────┼───────────────┤\n",
       "│ random_flip_2 (<span style=\"color: #0087ff; text-decoration-color: #0087ff\">RandomFlip</span>)      │ ?                      │   <span style=\"color: #00af00; text-decoration-color: #00af00\">0</span> (unbuilt) │\n",
       "├─────────────────────────────────┼────────────────────────┼───────────────┤\n",
       "│ random_rotation_2               │ ?                      │   <span style=\"color: #00af00; text-decoration-color: #00af00\">0</span> (unbuilt) │\n",
       "│ (<span style=\"color: #0087ff; text-decoration-color: #0087ff\">RandomRotation</span>)                │                        │               │\n",
       "├─────────────────────────────────┼────────────────────────┼───────────────┤\n",
       "│ flatten_2 (<span style=\"color: #0087ff; text-decoration-color: #0087ff\">Flatten</span>)             │ ?                      │   <span style=\"color: #00af00; text-decoration-color: #00af00\">0</span> (unbuilt) │\n",
       "├─────────────────────────────────┼────────────────────────┼───────────────┤\n",
       "│ dense_8 (<span style=\"color: #0087ff; text-decoration-color: #0087ff\">Dense</span>)                 │ ?                      │   <span style=\"color: #00af00; text-decoration-color: #00af00\">0</span> (unbuilt) │\n",
       "├─────────────────────────────────┼────────────────────────┼───────────────┤\n",
       "│ dropout_6 (<span style=\"color: #0087ff; text-decoration-color: #0087ff\">Dropout</span>)             │ ?                      │             <span style=\"color: #00af00; text-decoration-color: #00af00\">0</span> │\n",
       "├─────────────────────────────────┼────────────────────────┼───────────────┤\n",
       "│ dense_10 (<span style=\"color: #0087ff; text-decoration-color: #0087ff\">Dense</span>)                │ ?                      │   <span style=\"color: #00af00; text-decoration-color: #00af00\">0</span> (unbuilt) │\n",
       "├─────────────────────────────────┼────────────────────────┼───────────────┤\n",
       "│ dense_11 (<span style=\"color: #0087ff; text-decoration-color: #0087ff\">Dense</span>)                │ ?                      │   <span style=\"color: #00af00; text-decoration-color: #00af00\">0</span> (unbuilt) │\n",
       "└─────────────────────────────────┴────────────────────────┴───────────────┘\n",
       "</pre>\n"
      ],
      "text/plain": [
       "┏━━━━━━━━━━━━━━━━━━━━━━━━━━━━━━━━━┳━━━━━━━━━━━━━━━━━━━━━━━━┳━━━━━━━━━━━━━━━┓\n",
       "┃\u001b[1m \u001b[0m\u001b[1mLayer (type)                   \u001b[0m\u001b[1m \u001b[0m┃\u001b[1m \u001b[0m\u001b[1mOutput Shape          \u001b[0m\u001b[1m \u001b[0m┃\u001b[1m \u001b[0m\u001b[1m      Param #\u001b[0m\u001b[1m \u001b[0m┃\n",
       "┡━━━━━━━━━━━━━━━━━━━━━━━━━━━━━━━━━╇━━━━━━━━━━━━━━━━━━━━━━━━╇━━━━━━━━━━━━━━━┩\n",
       "│ inception_v3 (\u001b[38;5;33mFunctional\u001b[0m)       │ ?                      │    \u001b[38;5;34m21,802,784\u001b[0m │\n",
       "├─────────────────────────────────┼────────────────────────┼───────────────┤\n",
       "│ random_flip_2 (\u001b[38;5;33mRandomFlip\u001b[0m)      │ ?                      │   \u001b[38;5;34m0\u001b[0m (unbuilt) │\n",
       "├─────────────────────────────────┼────────────────────────┼───────────────┤\n",
       "│ random_rotation_2               │ ?                      │   \u001b[38;5;34m0\u001b[0m (unbuilt) │\n",
       "│ (\u001b[38;5;33mRandomRotation\u001b[0m)                │                        │               │\n",
       "├─────────────────────────────────┼────────────────────────┼───────────────┤\n",
       "│ flatten_2 (\u001b[38;5;33mFlatten\u001b[0m)             │ ?                      │   \u001b[38;5;34m0\u001b[0m (unbuilt) │\n",
       "├─────────────────────────────────┼────────────────────────┼───────────────┤\n",
       "│ dense_8 (\u001b[38;5;33mDense\u001b[0m)                 │ ?                      │   \u001b[38;5;34m0\u001b[0m (unbuilt) │\n",
       "├─────────────────────────────────┼────────────────────────┼───────────────┤\n",
       "│ dropout_6 (\u001b[38;5;33mDropout\u001b[0m)             │ ?                      │             \u001b[38;5;34m0\u001b[0m │\n",
       "├─────────────────────────────────┼────────────────────────┼───────────────┤\n",
       "│ dense_10 (\u001b[38;5;33mDense\u001b[0m)                │ ?                      │   \u001b[38;5;34m0\u001b[0m (unbuilt) │\n",
       "├─────────────────────────────────┼────────────────────────┼───────────────┤\n",
       "│ dense_11 (\u001b[38;5;33mDense\u001b[0m)                │ ?                      │   \u001b[38;5;34m0\u001b[0m (unbuilt) │\n",
       "└─────────────────────────────────┴────────────────────────┴───────────────┘\n"
      ]
     },
     "metadata": {},
     "output_type": "display_data"
    },
    {
     "data": {
      "text/html": [
       "<pre style=\"white-space:pre;overflow-x:auto;line-height:normal;font-family:Menlo,'DejaVu Sans Mono',consolas,'Courier New',monospace\"><span style=\"font-weight: bold\"> Total params: </span><span style=\"color: #00af00; text-decoration-color: #00af00\">21,802,784</span> (83.17 MB)\n",
       "</pre>\n"
      ],
      "text/plain": [
       "\u001b[1m Total params: \u001b[0m\u001b[38;5;34m21,802,784\u001b[0m (83.17 MB)\n"
      ]
     },
     "metadata": {},
     "output_type": "display_data"
    },
    {
     "data": {
      "text/html": [
       "<pre style=\"white-space:pre;overflow-x:auto;line-height:normal;font-family:Menlo,'DejaVu Sans Mono',consolas,'Courier New',monospace\"><span style=\"font-weight: bold\"> Trainable params: </span><span style=\"color: #00af00; text-decoration-color: #00af00\">0</span> (0.00 B)\n",
       "</pre>\n"
      ],
      "text/plain": [
       "\u001b[1m Trainable params: \u001b[0m\u001b[38;5;34m0\u001b[0m (0.00 B)\n"
      ]
     },
     "metadata": {},
     "output_type": "display_data"
    },
    {
     "data": {
      "text/html": [
       "<pre style=\"white-space:pre;overflow-x:auto;line-height:normal;font-family:Menlo,'DejaVu Sans Mono',consolas,'Courier New',monospace\"><span style=\"font-weight: bold\"> Non-trainable params: </span><span style=\"color: #00af00; text-decoration-color: #00af00\">21,802,784</span> (83.17 MB)\n",
       "</pre>\n"
      ],
      "text/plain": [
       "\u001b[1m Non-trainable params: \u001b[0m\u001b[38;5;34m21,802,784\u001b[0m (83.17 MB)\n"
      ]
     },
     "metadata": {},
     "output_type": "display_data"
    }
   ],
   "source": [
    "model.summary()"
   ]
  },
  {
   "cell_type": "code",
   "execution_count": 28,
   "metadata": {
    "execution": {
     "iopub.execute_input": "2024-05-07T13:33:22.130491Z",
     "iopub.status.busy": "2024-05-07T13:33:22.130185Z",
     "iopub.status.idle": "2024-05-07T13:33:22.137111Z",
     "shell.execute_reply": "2024-05-07T13:33:22.136388Z",
     "shell.execute_reply.started": "2024-05-07T13:33:22.130468Z"
    }
   },
   "outputs": [],
   "source": [
    "initial_learning_rate = 0.0001\n",
    "lr_schedule = ExponentialDecay(\n",
    "    initial_learning_rate,\n",
    "    decay_steps=100000,\n",
    "    decay_rate=0.96,\n",
    "    staircase=True)\n",
    "\n",
    "optimizer = Adam(learning_rate=lr_schedule)"
   ]
  },
  {
   "cell_type": "code",
   "execution_count": 29,
   "metadata": {
    "execution": {
     "iopub.execute_input": "2024-05-07T13:33:22.139930Z",
     "iopub.status.busy": "2024-05-07T13:33:22.139290Z",
     "iopub.status.idle": "2024-05-07T13:33:22.158078Z",
     "shell.execute_reply": "2024-05-07T13:33:22.157366Z",
     "shell.execute_reply.started": "2024-05-07T13:33:22.139898Z"
    }
   },
   "outputs": [],
   "source": [
    "model.compile(optimizer=optimizer, loss='categorical_crossentropy', metrics=['accuracy'])"
   ]
  },
  {
   "cell_type": "code",
   "execution_count": 30,
   "metadata": {
    "execution": {
     "iopub.execute_input": "2024-05-07T13:33:22.159526Z",
     "iopub.status.busy": "2024-05-07T13:33:22.159165Z",
     "iopub.status.idle": "2024-05-07T14:31:32.376774Z",
     "shell.execute_reply": "2024-05-07T14:31:32.375945Z",
     "shell.execute_reply.started": "2024-05-07T13:33:22.159492Z"
    }
   },
   "outputs": [
    {
     "name": "stdout",
     "output_type": "stream",
     "text": [
      "Epoch 1/100\n",
      "\u001b[1m718/718\u001b[0m \u001b[32m━━━━━━━━━━━━━━━━━━━━\u001b[0m\u001b[37m\u001b[0m \u001b[1m182s\u001b[0m 235ms/step - accuracy: 0.3151 - loss: 2.0082 - val_accuracy: 0.4640 - val_loss: 1.3813\n",
      "Epoch 2/100\n",
      "\u001b[1m718/718\u001b[0m \u001b[32m━━━━━━━━━━━━━━━━━━━━\u001b[0m\u001b[37m\u001b[0m \u001b[1m165s\u001b[0m 230ms/step - accuracy: 0.4672 - loss: 1.4229 - val_accuracy: 0.5179 - val_loss: 1.2893\n",
      "Epoch 3/100\n",
      "\u001b[1m718/718\u001b[0m \u001b[32m━━━━━━━━━━━━━━━━━━━━\u001b[0m\u001b[37m\u001b[0m \u001b[1m166s\u001b[0m 231ms/step - accuracy: 0.5020 - loss: 1.3195 - val_accuracy: 0.5205 - val_loss: 1.2732\n",
      "Epoch 4/100\n",
      "\u001b[1m718/718\u001b[0m \u001b[32m━━━━━━━━━━━━━━━━━━━━\u001b[0m\u001b[37m\u001b[0m \u001b[1m167s\u001b[0m 232ms/step - accuracy: 0.5328 - loss: 1.2403 - val_accuracy: 0.5419 - val_loss: 1.2214\n",
      "Epoch 5/100\n",
      "\u001b[1m718/718\u001b[0m \u001b[32m━━━━━━━━━━━━━━━━━━━━\u001b[0m\u001b[37m\u001b[0m \u001b[1m165s\u001b[0m 230ms/step - accuracy: 0.5549 - loss: 1.1831 - val_accuracy: 0.5367 - val_loss: 1.2532\n",
      "Epoch 6/100\n",
      "\u001b[1m718/718\u001b[0m \u001b[32m━━━━━━━━━━━━━━━━━━━━\u001b[0m\u001b[37m\u001b[0m \u001b[1m166s\u001b[0m 231ms/step - accuracy: 0.5782 - loss: 1.1365 - val_accuracy: 0.5569 - val_loss: 1.2077\n",
      "Epoch 7/100\n",
      "\u001b[1m718/718\u001b[0m \u001b[32m━━━━━━━━━━━━━━━━━━━━\u001b[0m\u001b[37m\u001b[0m \u001b[1m165s\u001b[0m 230ms/step - accuracy: 0.5918 - loss: 1.0893 - val_accuracy: 0.5537 - val_loss: 1.1883\n",
      "Epoch 8/100\n",
      "\u001b[1m718/718\u001b[0m \u001b[32m━━━━━━━━━━━━━━━━━━━━\u001b[0m\u001b[37m\u001b[0m \u001b[1m166s\u001b[0m 230ms/step - accuracy: 0.6062 - loss: 1.0589 - val_accuracy: 0.5579 - val_loss: 1.2079\n",
      "Epoch 9/100\n",
      "\u001b[1m718/718\u001b[0m \u001b[32m━━━━━━━━━━━━━━━━━━━━\u001b[0m\u001b[37m\u001b[0m \u001b[1m165s\u001b[0m 229ms/step - accuracy: 0.6210 - loss: 1.0195 - val_accuracy: 0.5523 - val_loss: 1.2107\n",
      "Epoch 10/100\n",
      "\u001b[1m718/718\u001b[0m \u001b[32m━━━━━━━━━━━━━━━━━━━━\u001b[0m\u001b[37m\u001b[0m \u001b[1m166s\u001b[0m 230ms/step - accuracy: 0.6310 - loss: 0.9795 - val_accuracy: 0.5602 - val_loss: 1.2006\n",
      "Epoch 11/100\n",
      "\u001b[1m718/718\u001b[0m \u001b[32m━━━━━━━━━━━━━━━━━━━━\u001b[0m\u001b[37m\u001b[0m \u001b[1m165s\u001b[0m 230ms/step - accuracy: 0.6464 - loss: 0.9532 - val_accuracy: 0.5602 - val_loss: 1.2068\n",
      "Epoch 12/100\n",
      "\u001b[1m718/718\u001b[0m \u001b[32m━━━━━━━━━━━━━━━━━━━━\u001b[0m\u001b[37m\u001b[0m \u001b[1m166s\u001b[0m 230ms/step - accuracy: 0.6638 - loss: 0.9090 - val_accuracy: 0.5626 - val_loss: 1.2220\n",
      "Epoch 13/100\n",
      "\u001b[1m718/718\u001b[0m \u001b[32m━━━━━━━━━━━━━━━━━━━━\u001b[0m\u001b[37m\u001b[0m \u001b[1m166s\u001b[0m 230ms/step - accuracy: 0.6717 - loss: 0.8833 - val_accuracy: 0.5746 - val_loss: 1.2124\n",
      "Epoch 14/100\n",
      "\u001b[1m718/718\u001b[0m \u001b[32m━━━━━━━━━━━━━━━━━━━━\u001b[0m\u001b[37m\u001b[0m \u001b[1m165s\u001b[0m 229ms/step - accuracy: 0.6886 - loss: 0.8426 - val_accuracy: 0.5743 - val_loss: 1.2302\n",
      "Epoch 15/100\n",
      "\u001b[1m718/718\u001b[0m \u001b[32m━━━━━━━━━━━━━━━━━━━━\u001b[0m\u001b[37m\u001b[0m \u001b[1m165s\u001b[0m 230ms/step - accuracy: 0.6952 - loss: 0.8127 - val_accuracy: 0.5771 - val_loss: 1.2362\n",
      "Epoch 16/100\n",
      "\u001b[1m718/718\u001b[0m \u001b[32m━━━━━━━━━━━━━━━━━━━━\u001b[0m\u001b[37m\u001b[0m \u001b[1m165s\u001b[0m 229ms/step - accuracy: 0.7114 - loss: 0.7870 - val_accuracy: 0.5750 - val_loss: 1.2747\n",
      "Epoch 17/100\n",
      "\u001b[1m718/718\u001b[0m \u001b[32m━━━━━━━━━━━━━━━━━━━━\u001b[0m\u001b[37m\u001b[0m \u001b[1m165s\u001b[0m 229ms/step - accuracy: 0.7147 - loss: 0.7675 - val_accuracy: 0.5736 - val_loss: 1.2237\n",
      "Epoch 18/100\n",
      "\u001b[1m718/718\u001b[0m \u001b[32m━━━━━━━━━━━━━━━━━━━━\u001b[0m\u001b[37m\u001b[0m \u001b[1m165s\u001b[0m 230ms/step - accuracy: 0.7313 - loss: 0.7214 - val_accuracy: 0.5799 - val_loss: 1.2686\n",
      "Epoch 19/100\n",
      "\u001b[1m718/718\u001b[0m \u001b[32m━━━━━━━━━━━━━━━━━━━━\u001b[0m\u001b[37m\u001b[0m \u001b[1m165s\u001b[0m 229ms/step - accuracy: 0.7391 - loss: 0.7015 - val_accuracy: 0.5781 - val_loss: 1.3110\n",
      "Epoch 20/100\n",
      "\u001b[1m718/718\u001b[0m \u001b[32m━━━━━━━━━━━━━━━━━━━━\u001b[0m\u001b[37m\u001b[0m \u001b[1m165s\u001b[0m 229ms/step - accuracy: 0.7485 - loss: 0.6842 - val_accuracy: 0.5631 - val_loss: 1.3639\n",
      "Epoch 21/100\n",
      "\u001b[1m718/718\u001b[0m \u001b[32m━━━━━━━━━━━━━━━━━━━━\u001b[0m\u001b[37m\u001b[0m \u001b[1m165s\u001b[0m 229ms/step - accuracy: 0.7581 - loss: 0.6549 - val_accuracy: 0.5776 - val_loss: 1.3376\n",
      "Epoch 21: early stopping\n",
      "Restoring model weights from the end of the best epoch: 18.\n"
     ]
    }
   ],
   "source": [
    "es = EarlyStopping(monitor = 'val_accuracy', \n",
    "                   mode = 'max', \n",
    "                   patience = 3, \n",
    "                   verbose = 1, \n",
    "                   restore_best_weights = True)\n",
    "\n",
    "history = model.fit(preproc_train_ds, \n",
    "                    validation_data=preproc_val_ds, \n",
    "                    epochs=100, \n",
    "                    callbacks=[es])"
   ]
  },
  {
   "cell_type": "code",
   "execution_count": 31,
   "metadata": {
    "execution": {
     "iopub.execute_input": "2024-05-07T14:31:32.378361Z",
     "iopub.status.busy": "2024-05-07T14:31:32.378032Z",
     "iopub.status.idle": "2024-05-07T14:32:04.990115Z",
     "shell.execute_reply": "2024-05-07T14:32:04.989151Z",
     "shell.execute_reply.started": "2024-05-07T14:31:32.378333Z"
    }
   },
   "outputs": [
    {
     "name": "stdout",
     "output_type": "stream",
     "text": [
      "\u001b[1m225/225\u001b[0m \u001b[32m━━━━━━━━━━━━━━━━━━━━\u001b[0m\u001b[37m\u001b[0m \u001b[1m33s\u001b[0m 144ms/step - accuracy: 0.5834 - loss: 1.2911\n"
     ]
    },
    {
     "data": {
      "text/plain": [
       "[1.2709881067276, 0.5866536498069763]"
      ]
     },
     "execution_count": 31,
     "metadata": {},
     "output_type": "execute_result"
    }
   ],
   "source": [
    "model.evaluate(preproc_test_ds)"
   ]
  },
  {
   "cell_type": "code",
   "execution_count": null,
   "metadata": {},
   "outputs": [],
   "source": []
  },
  {
   "cell_type": "code",
   "execution_count": null,
   "metadata": {},
   "outputs": [],
   "source": []
  },
  {
   "cell_type": "code",
   "execution_count": null,
   "metadata": {},
   "outputs": [],
   "source": []
  }
 ],
 "metadata": {
  "kaggle": {
   "accelerator": "nvidiaTeslaT4",
   "dataSources": [
    {
     "datasetId": 1028436,
     "sourceId": 1732825,
     "sourceType": "datasetVersion"
    }
   ],
   "dockerImageVersionId": 30698,
   "isGpuEnabled": true,
   "isInternetEnabled": true,
   "language": "python",
   "sourceType": "notebook"
  },
  "kernelspec": {
   "display_name": "Python 3 (ipykernel)",
   "language": "python",
   "name": "python3"
  },
  "language_info": {
   "codemirror_mode": {
    "name": "ipython",
    "version": 3
   },
   "file_extension": ".py",
   "mimetype": "text/x-python",
   "name": "python",
   "nbconvert_exporter": "python",
   "pygments_lexer": "ipython3",
   "version": "3.10.6"
  }
 },
 "nbformat": 4,
 "nbformat_minor": 4
}
