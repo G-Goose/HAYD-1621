{
 "cells": [
  {
   "cell_type": "code",
   "execution_count": 1,
   "id": "1cd17fbc-5d1e-4593-b33f-d2d7d2d34cf1",
   "metadata": {},
   "outputs": [
    {
     "data": {
      "text/html": [
       "<style>.container { width:100% !important; }</style>"
      ],
      "text/plain": [
       "<IPython.core.display.HTML object>"
      ]
     },
     "metadata": {},
     "output_type": "display_data"
    }
   ],
   "source": [
    "from IPython.display import display, HTML\n",
    "display(HTML(\"<style>.container { width:100% !important; }</style>\"))"
   ]
  },
  {
   "cell_type": "code",
   "execution_count": 1,
   "id": "9bea665e-1d6f-4ee9-8bb6-f6e278218423",
   "metadata": {},
   "outputs": [],
   "source": [
    "import os\n",
    "import pytz\n",
    "from google.cloud import bigquery\n",
    "from datetime import datetime\n",
    "import datetime as dt"
   ]
  },
  {
   "cell_type": "code",
   "execution_count": 2,
   "id": "65d05e20-ef89-4900-aab4-c5c37406199f",
   "metadata": {},
   "outputs": [],
   "source": [
    "project_name = os.getenv('GCP_PROJECT')\n",
    "dataset_name = os.getenv('BQ_DS')\n",
    "table_name= os.getenv('BQ_TABLE')\n",
    "location_name= os.getenv('BQ_LOCATION')\n",
    "\n",
    "client = bigquery.Client()"
   ]
  },
  {
   "cell_type": "code",
   "execution_count": 7,
   "id": "cd05a2be-e970-4e1a-80fc-2a1a87c1bff9",
   "metadata": {},
   "outputs": [
    {
     "name": "stdout",
     "output_type": "stream",
     "text": [
      "['2024-05-07', '2024-05-08', '2024-05-09', '2024-05-10', '2024-05-11', '2024-05-12', '2024-05-13']\n",
      "[2, 2, 5, 6, 3, 3, 3]\n"
     ]
    }
   ],
   "source": [
    "# Get today's date in the right timezone, usually UTC for BigQuery\n",
    "end = (datetime.now(pytz.utc).date() - dt.timedelta(days=2))\n",
    "dates = list(reversed([(end - dt.timedelta(days=i)).strftime('%Y-%m-%d') for i in range(7)]))\n",
    "values = [2, 2, 5, 6, 3, 3, 3]\n",
    "print(dates)\n",
    "print(dict())"
   ]
  },
  {
   "cell_type": "code",
   "execution_count": 10,
   "id": "e8efa8be-0e22-40f6-b26a-124145e9490d",
   "metadata": {},
   "outputs": [
    {
     "name": "stdout",
     "output_type": "stream",
     "text": [
      "['Insert successful for date 2024-05-6']\n"
     ]
    }
   ],
   "source": [
    "from google.cloud import bigquery\n",
    "from datetime import datetime\n",
    "import os\n",
    "import pytz\n",
    "\n",
    "# Initialize BigQuery client\n",
    "client = bigquery.Client()\n",
    "\n",
    "def bulk_update_or_insert_values(dates, values, project_id=None, dataset_id=None, table_id=None):\n",
    "    if project_id is None:\n",
    "        project_id = os.getenv('GCP_PROJECT')\n",
    "    if dataset_id is None:\n",
    "        dataset_id = os.getenv('BQ_DS')\n",
    "    if table_id is None:\n",
    "        table_id = os.getenv('BQ_TABLE')\n",
    "\n",
    "    # List to store the operations status\n",
    "    operation_results = []\n",
    "\n",
    "    # Loop through each date and value\n",
    "    for date, value in zip(dates, values):\n",
    "        # Query to check existing data for the given date\n",
    "        check_query = f\"\"\"\n",
    "        SELECT value\n",
    "        FROM `{project_id}.{dataset_id}.{table_id}`\n",
    "        WHERE DATE(date) = '{date}'\n",
    "        \"\"\"\n",
    "        check_job = client.query(check_query)\n",
    "        results = list(check_job)\n",
    "\n",
    "        # Determine whether to update or insert based on presence of data\n",
    "        if results:\n",
    "            # Update the existing row\n",
    "            operation_query = f\"\"\"\n",
    "            UPDATE `{project_id}.{dataset_id}.{table_id}`\n",
    "            SET value = {value}\n",
    "            WHERE DATE(date) = '{date}'\n",
    "            \"\"\"\n",
    "            operation_type = \"Update\"\n",
    "        else:\n",
    "            # Insert a new row\n",
    "            operation_query = f\"\"\"\n",
    "            INSERT `{project_id}.{dataset_id}.{table_id}` (date, value)\n",
    "            VALUES ('{date}', {value})\n",
    "            \"\"\"\n",
    "            operation_type = \"Insert\"\n",
    "\n",
    "        # Execute the update or insert query\n",
    "        operation_job = client.query(operation_query)\n",
    "        operation_job.result()  # Wait for the job to complete\n",
    "\n",
    "        # Record the operation result\n",
    "        operation_results.append(f\"{operation_type} successful for date {date}\")\n",
    "\n",
    "    return operation_results\n",
    "\n",
    "# Example usage\n",
    "# dates = ['2024-05-07', '2024-05-08', '2024-05-09', '2024-05-10', '2024-05-11', '2024-05-12', '2024-05-13']\n",
    "# values = [2, 2, 5, 6, 3, 3, 3]\n",
    "dates = ['2024-05-6']\n",
    "values = [2]\n",
    "\n",
    "print(bulk_update_or_insert_values(dates, values))\n"
   ]
  },
  {
   "cell_type": "code",
   "execution_count": null,
   "id": "244392c4-a357-4e2b-86ad-3ae67bc153e0",
   "metadata": {},
   "outputs": [],
   "source": []
  }
 ],
 "metadata": {
  "kernelspec": {
   "display_name": "Python 3 (ipykernel)",
   "language": "python",
   "name": "python3"
  },
  "language_info": {
   "codemirror_mode": {
    "name": "ipython",
    "version": 3
   },
   "file_extension": ".py",
   "mimetype": "text/x-python",
   "name": "python",
   "nbconvert_exporter": "python",
   "pygments_lexer": "ipython3",
   "version": "3.10.6"
  }
 },
 "nbformat": 4,
 "nbformat_minor": 5
}
